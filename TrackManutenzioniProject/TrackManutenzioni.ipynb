{
  "cells": [
    {
      "cell_type": "markdown",
      "metadata": {
        "colab_type": "text",
        "id": "view-in-github"
      },
      "source": [
        "<a href=\"https://colab.research.google.com/github/AdlaiSantopadre/Home/blob/main/Colab/TrackManutenzioni.ipynb\" target=\"_parent\"><img src=\"https://colab.research.google.com/assets/colab-badge.svg\" alt=\"Open In Colab\"/></a>"
      ]
    },
    {
      "cell_type": "markdown",
      "metadata": {
        "id": "orc4_mYUn80y"
      },
      "source": [
        "Questo blocco note sviluppa un foglio di calcolo excel per il tracciamento delle attività di manutenzione programmata prevista per le dotazioni antincendio in ambito autostradale in cui  sono presenti siti di servizio, locali tecnici, gallerie (ed altri ambienti).I dispositivi previsiti si trovano dislocati in itinere lungo le carreggiate sinistra e destrae in corrispondenza di altre pertinenze come le stazioni di pedaggio e le aree di servizio. Questi prevedono la presenza di una serie di dispositivi le cui tipologie si possono ricondurre all'elenco sottostante:"
      ]
    },
    {
      "cell_type": "markdown",
      "metadata": {
        "id": "hQfUZY9rqLSv"
      },
      "source": [
        "E' prevista  la presenza di una serie di dispositivi le cui tipologie si possono ricondurre all'elenco sottostante di **Tipo Risorsa**:\n",
        "\n",
        "\n",
        "1 Portoni carrabile REI\n",
        "\n",
        "2 Porte REI\n",
        "\n",
        "3 Attacchi per autopompa\n",
        "\n",
        "4 Idranti\n",
        "\n",
        "5 Cassette antincendio\n",
        "\n",
        "6 Gruppi pressurizzazione antincendio\n",
        "\n",
        "7 Impianti rilevamento incendio\n",
        "\n",
        "8 Serrande REI\n",
        "\n",
        "9 Estintori\n",
        "\n",
        "10 Supporti estintore"
      ]
    },
    {
      "cell_type": "markdown",
      "metadata": {
        "id": "FDU5YoC0_kmm"
      },
      "source": [
        "Ogni dispositivo è identificato univocamente da un **Identificativo numerico** , si trova in un luogo georeferenziato tramite un etichetta (tag) ed è a sua volta associato ad un etichetta georeferenziata. L'elenco delle tipologie dei luoghi si può ricondurre alla lista sottostante:"
      ]
    },
    {
      "cell_type": "markdown",
      "metadata": {
        "id": "owqUyfDFBLHB"
      },
      "source": [
        "Ogni dispositivo localizzato mediante etichetta georeferenziata può essere individuato mediante un campo che descrive la localizzazione.\n",
        "L'elenco delle tipologie dei luoghi (**Tipo luogo**) si può ricondurre alla lista sottostante:\n",
        "\n",
        "1 Area di servizio\n",
        "\n",
        "2 Fabbricato %% accessorio\n",
        "\n",
        "3 Locale Tecnico %% accessorio\n",
        "\n",
        "4 Radio Ripetitore di Altura\n",
        "\n",
        "5 Shelter Impianti\n",
        "\n",
        "6 Sito operativo (Hub)\n",
        "\n",
        "7 Stazione di esazione\n",
        "\n",
        "8 Galleria\n",
        "\n",
        "Seguono i dati per la georeferenziazione"
      ]
    },
    {
      "cell_type": "markdown",
      "metadata": {
        "id": "XJJN5eJ0IMl2"
      },
      "source": [
        "Per ogni tipologia di dispositivo antincendio (= Tipo Risorsa) sussistono attività di manutenzione (ordinaria) programmata.\n",
        "Sostanzialmente una attività di manutenzione si contraddistingue (oltre che **tipo di attività** da svolgere) per:\n",
        "dispositivo associato;\n",
        "periodicità;\n",
        "data di inizio attività (timestamp che la identifica univocamente) ;\n",
        "data di scadenza attività;\n",
        "data di effettuazione.\n",
        "Sulla base della data di effettuazione e della periodicità viene calcolato il timestamp della successiva manutenzione periodica.\n",
        "Ogni attività prevede un assegnatario, prevede una flag di stato in relazione all'assegnamento ad una risorsa di manodopera (da assegnare/assegnata) ed una flag di stato rispetto all'esecuzione(da eseguire/eseguita)\n"
      ]
    },
    {
      "cell_type": "code",
      "execution_count": null,
      "metadata": {
        "colab": {
          "base_uri": "https://localhost:8080/"
        },
        "id": "c6kYxhs40XHe",
        "outputId": "22bb27b4-6e55-44f1-b999-e878c0d53166"
      },
      "outputs": [
        {
          "name": "stdout",
          "output_type": "stream",
          "text": [
            "Drive already mounted at /content/drive; to attempt to forcibly remount, call drive.mount(\"/content/drive\", force_remount=True).\n"
          ]
        }
      ],
      "source": [
        "from google.colab import drive\n",
        "drive.mount('/content/drive')"
      ]
    },
    {
      "cell_type": "markdown",
      "metadata": {
        "id": "dBJ_edKjvOgf"
      },
      "source": [
        "NON ESEGUIRE PIU`\n",
        "Il codice Python seguente è una analisi raffinata dei dataframe precedenti:\n",
        "genera un foglio di calcolo con 5 schede: Una per i *dispositiv*i, una per (il tipo di ) *manutenzioni* ordinarie , una per la *periodicità* di esse , una per i *luoghi*, una per (il tipo di)*risorse*  e infine una per (il tracking delle ) *attività* di manutenzione.\n"
      ]
    },
    {
      "cell_type": "code",
      "execution_count": null,
      "metadata": {
        "id": "18zrtqGsMiip"
      },
      "outputs": [],
      "source": [
        "\"\"\"\n",
        "import pandas as pd\n",
        "from datetime import datetime, timedelta\n",
        "#La libreria datetime viene importata per gestire univocità e cronologia delle attività\n",
        "# Definire alcune date di esempio per le scadenze periodiche\n",
        "today = datetime.today()\n",
        "dates = {\n",
        "    \"Trimestrale\": today + timedelta(days=90),\n",
        "    \"Semestrale\": today + timedelta(days=180),\n",
        "    \"Annuale\": today + timedelta(days=365)\n",
        "}\n",
        "\n",
        "# Creazione dei DataFrame iniziali\n",
        "dispositivi_data = {\n",
        "    \"ID Dispositivo\": [\"D001\", \"D002\", \"D003\", \"D004\"],\n",
        "    \"Etichetta\": [\"Tag1\", \"Tag2\", \"Tag3\", \"Tag4\"],\n",
        "    \"Tipo Risorsa\": [None, None, None, None],  # da lista\n",
        "    \"Tipo Luogo\": [None, None, None, None],  # da lista\n",
        "    \"Etichetta Georeferenziata\": [\"Geo1\", \"Geo2\", \"Geo3\", \"Geo4\"],\n",
        "}\n",
        "dispositivi_df = pd.DataFrame(dispositivi_data)\n",
        "#\n",
        "manutenzioni_data = {\n",
        "    \"Tipo Attività\": [\"A001\", \"A002\", \"A003\", \"A004\"],  # da lista\n",
        "    \"Periodicità Manutenzione\": [None, None, None, None],  # Campo associato da periodicità\n",
        "}\n",
        "manutenzioni_df = pd.DataFrame(manutenzioni_data)\n",
        "#\n",
        "periodicità_data = {\n",
        "    \"Periodicità Manutenzione\": [90, 180, 365],\n",
        "}\n",
        "periodicità_df = pd.DataFrame(periodicità_data)\n",
        "#\n",
        "luoghi_data = {\n",
        "    \"Tipo Luogo\": [\"Area di servizio\", \"Fabbricato\", \"Locale Tecnico\", \"Radio Ripetitore di Altura\", \"Shelter Impianti\", \"Sito operativo (Hub)\", \"Stazione di esazione\", \"Galleria\"],\n",
        "}\n",
        "luoghi_df = pd.DataFrame(luoghi_data)\n",
        "#\n",
        "risorse_data = {\n",
        "    \"Tipo Risorsa\": [\"Portoni carrabili REI\", \"Porte REI\", \"Attacchi per autopompa\", \"Idranti\", \"Cassette antincendio\", \"Gruppi pressurizzazione antincendio\", \"Impianti rilevamento incendio\", \"Serrande REI\", \"Estintori\", \"Supporti estintori\"],\n",
        "}\n",
        "risorse_df = pd.DataFrame(risorse_data)\n",
        "#\n",
        "attività_data = {\n",
        "    \"Codice Attività\": [today.timestamp(), today.timestamp() + 1, today.timestamp() + 2, today.timestamp() + 3],\n",
        "    \"ID Dispositivo\": [\"D001\", \"D002\", \"D003\", \"D004\"],  # Campo associato dal DataFrame Dispositivi\n",
        "    \"Periodicità\": [None, None, None, None],  # campo associato da periodicità\n",
        "    \"Inizio Manutenzione\": [\"2023-01-15\", \"2023-02-20\", \"2023-03-25\", \"2023-04-30\"],\n",
        "    \"Data Scadenza\": [dates[\"Trimestrale\"], dates[\"Semestrale\"], dates[\"Annuale\"], dates[\"Trimestrale\"]],\n",
        "    \"Flag scadenza\": [None, None, None, None],\n",
        "    \"Flag assegnazione\": [None, None, None, None],\n",
        "}\n",
        "attività_df = pd.DataFrame(attività_data)\n",
        "#\n",
        "# Funzione per aggiungere dispositivi con controllo su Tipo Luogo e Tipo Risorsa\n",
        "def Aggiungi_dispositivo(dispositivi_df, luoghi_df, risorse_df, id_dispositivo, etichetta, tipo_luogo, tipo_risorsa, etichetta_georeferenziata):\n",
        "    if tipo_luogo not in luoghi_df[\"Tipo Luogo\"].values:\n",
        "        raise ValueError(f\"Tipo Luogo '{tipo_luogo}' non valido. Deve essere uno tra {luoghi_df['Tipo Luogo'].values}\")\n",
        "    if tipo_risorsa not in risorse_df[\"Tipo Risorsa\"].values:\n",
        "        raise ValueError(f\"Tipo Risorsa '{tipo_risorsa}' non valido. Deve essere uno tra {risorse_df['Tipo Risorsa'].values}\")\n",
        "\n",
        "    new_data = {\n",
        "        \"ID Dispositivo\": id_dispositivo,\n",
        "        \"Etichetta\": etichetta,\n",
        "        \"Tipo Risorsa\": tipo_risorsa,\n",
        "        \"Tipo Luogo\": tipo_luogo,\n",
        "        \"Etichetta Georeferenziata\": etichetta_georeferenziata,\n",
        "    }\n",
        "\n",
        "    # Use pd.concat instead of the deprecated .append method\n",
        "    return pd.concat([dispositivi_df, pd.DataFrame([new_data])], ignore_index=True)\n",
        "\n",
        "# Esempio di utilizzo della funzione Aggiungi_dispositivo\n",
        "dispositivi_df = Aggiungi_dispositivo(dispositivi_df, luoghi_df, risorse_df, \"D005\", \"Tag5\", \"Fabbricato\", \"Estintori\", \"Geo5\")\n",
        "\n",
        "# Visualizzazione del DataFrame aggiornato\n",
        "print(dispositivi_df)\n",
        "\n",
        "\n",
        "\n",
        "#Scrittura del file Excel con multi-schede\n",
        "with pd.ExcelWriter('/content/drive/My Drive/Dispositivi_Antincendio_Manutenzione.xlsx') as writer:\n",
        "  dispositivi_df.to_excel(writer, sheet_name='Dispositivi', index=False)\n",
        "  attività_df.to_excel(writer, sheet_name='Attività di Manutenzione', index=False)\n",
        "  manutenzioni_df.to_excel(writer, sheet_name='Manutenzioni ordinarie', index=False)\n",
        "  periodicità_df.to_excel(writer, sheet_name='Periodicità', index=False)\n",
        "  luoghi_df.to_excel(writer, sheet_name='Luoghi', index=False)\n",
        "  risorse_df.to_excel(writer, sheet_name='Risorse', index=False)\n",
        "\"\"\"\n",
        "\n"
      ]
    },
    {
      "cell_type": "markdown",
      "metadata": {
        "id": "x8oruHTGwK2I"
      },
      "source": [
        "A questo punto passo a una versione con DataFrame inizialmente vuoti"
      ]
    },
    {
      "cell_type": "code",
      "execution_count": null,
      "metadata": {
        "id": "iIkq_CInwkMV"
      },
      "outputs": [],
      "source": [
        "import pandas as pd\n",
        "#La libreria datetime viene importata per gestire univocità e cronologia delle attività\n",
        "from datetime import datetime, timedelta\n",
        "\n",
        "# Definire alcune date di esempio per le scadenze periodiche\n",
        "today = datetime.today()\n",
        "dates = {\n",
        "    \"Trimestrale\": today + timedelta(days=90),\n",
        "    \"Semestrale\": today + timedelta(days=180),\n",
        "    \"Annuale\": today + timedelta(days=365)\n",
        "}\n",
        "\n",
        "# Creazione di DataFrame vuoti\n",
        "dispositivi_df = pd.DataFrame(columns=[\"ID Dispositivo\", \"Etichetta\", \"Tipo Risorsa\", \"Tipo Luogo\", \"Etichetta Georeferenziata\"])\n",
        "\n",
        "manutenzioni_df = pd.DataFrame(columns=[\"Tipo Attività\", \"Periodicità Manutenzione\"])\n",
        "\n",
        "periodicità_df = pd.DataFrame(columns=[\"Periodicità Manutenzione\"])\n",
        "\n",
        "luoghi_df = pd.DataFrame(columns=[\"Tipo Luogo\"])\n",
        "\n",
        "risorse_df = pd.DataFrame(columns=[\"Tipo Risorsa\"])\n",
        "\n",
        "attività_df = pd.DataFrame(columns=[\"Codice Attività\", \"ID Dispositivo\", \"Periodicità\", \"Inizio Manutenzione\", \"Data Scadenza\", \"Flag scadenza\", \"Flag assegnazione\"])\n",
        "\n",
        "#Scrittura del file Excel con multi-schede\n",
        "with pd.ExcelWriter('/content/drive/My Drive/Dispositivi_Antincendio_Manutenzione.xlsx') as writer:\n",
        "  dispositivi_df.to_excel(writer, sheet_name='Dispositivi', index=False)\n",
        "  attività_df.to_excel(writer, sheet_name='Attività di Manutenzione', index=False)\n",
        "  manutenzioni_df.to_excel(writer, sheet_name='Manutenzioni ordinarie', index=False)\n",
        "  periodicità_df.to_excel(writer, sheet_name='Periodicità', index=False)"
      ]
    },
    {
      "cell_type": "markdown",
      "metadata": {
        "id": "gHQLlUznyPyQ"
      },
      "source": [
        "Funzione **Aggiungi_dispositivo**:\n",
        "\n",
        "Questa funzione prende come input il DataFrame dei dispositivi (dispositivi_df), i DataFrame contenenti i luoghi (luoghi_df) e le risorse (risorse_df), e i dettagli del nuovo dispositivo da aggiungere.\n",
        "Controllo dei Valori: La funzione verifica che i valori di tipo_luogo e tipo_risorsa appartengano ai valori predefiniti nei rispettivi DataFrame (luoghi_df e risorse_df). Se un valore non è valido, viene sollevata un'eccezione (ValueError).\n",
        "Aggiunta del Dispositivo: Se i controlli sono superati, il nuovo dispositivo viene aggiunto al DataFrame dispositivi_df.\n",
        "\n",
        "Per utilizzare questa funzione, mi assicuro di popolare prima i DataFrame luoghi_df e risorse_df con i dati appropriati."
      ]
    },
    {
      "cell_type": "code",
      "execution_count": null,
      "metadata": {
        "colab": {
          "base_uri": "https://localhost:8080/"
        },
        "id": "kTs1PEMOzhBA",
        "outputId": "7fa7a887-4678-45ef-db92-4a6fed2d52d3"
      },
      "outputs": [
        {
          "name": "stdout",
          "output_type": "stream",
          "text": [
            "                   Tipo Luogo\n",
            "0            Area di servizio\n",
            "1                  Fabbricato\n",
            "2              Locale Tecnico\n",
            "3  Radio Ripetitore di Altura\n",
            "4            Shelter Impianti\n",
            "5        Sito operativo (Hub)\n",
            "6        Stazione di esazione\n",
            "7                    Galleria\n",
            "                          Tipo Risorsa\n",
            "0                Portoni carrabili REI\n",
            "1                            Porte REI\n",
            "2               Attacchi per autopompa\n",
            "3                              Idranti\n",
            "4                 Cassette antincendio\n",
            "5  Gruppi pressurizzazione antincendio\n",
            "6        Impianti rilevamento incendio\n",
            "7                         Serrande REI\n",
            "8                            Estintori\n",
            "9                   Supporti estintori\n",
            "Empty DataFrame\n",
            "Columns: [ID Dispositivo, Etichetta, Tipo Risorsa, Tipo Luogo, Etichetta Georeferenziata]\n",
            "Index: []\n"
          ]
        }
      ],
      "source": [
        "#\n",
        "luoghi_data = {\n",
        "    \"Tipo Luogo\": [\"Area di servizio\", \"Fabbricato\", \"Locale Tecnico\", \"Radio Ripetitore di Altura\", \"Shelter Impianti\", \"Sito operativo (Hub)\", \"Stazione di esazione\", \"Galleria\"],\n",
        "}\n",
        "luoghi_df = pd.DataFrame(luoghi_data)\n",
        "#\n",
        "risorse_data = {\n",
        "    \"Tipo Risorsa\": [\"Portoni carrabili REI\", \"Porte REI\", \"Attacchi per autopompa\", \"Idranti\", \"Cassette antincendio\", \"Gruppi pressurizzazione antincendio\", \"Impianti rilevamento incendio\", \"Serrande REI\", \"Estintori\", \"Supporti estintori\"],\n",
        "}\n",
        "risorse_df = pd.DataFrame(risorse_data)\n",
        "#\n",
        "print(luoghi_df)\n",
        "print(risorse_df)\n",
        "print(dispositivi_df)"
      ]
    },
    {
      "cell_type": "code",
      "execution_count": null,
      "metadata": {
        "colab": {
          "base_uri": "https://localhost:8080/"
        },
        "id": "w3bfrNOSyfRp",
        "outputId": "d161afa2-2b17-4adc-c48f-6a5737f76a7e"
      },
      "outputs": [
        {
          "name": "stdout",
          "output_type": "stream",
          "text": [
            "  ID Dispositivo Etichetta Tipo Risorsa  Tipo Luogo Etichetta Georeferenziata\n",
            "0           D005      Tag5    Estintori  Fabbricato                      Geo5\n"
          ]
        }
      ],
      "source": [
        "\n",
        "# Funzione per aggiungere dispositivi con controllo su Tipo Luogo e Tipo Risorsa\n",
        "def Aggiungi_dispositivo(dispositivi_df, luoghi_df, risorse_df, id_dispositivo, etichetta, tipo_luogo, tipo_risorsa, etichetta_georeferenziata):\n",
        "    if tipo_luogo not in luoghi_df[\"Tipo Luogo\"].values:\n",
        "        raise ValueError(f\"Tipo Luogo '{tipo_luogo}' non valido. Deve essere uno tra {luoghi_df['Tipo Luogo'].values}\")\n",
        "    if tipo_risorsa not in risorse_df[\"Tipo Risorsa\"].values:\n",
        "        raise ValueError(f\"Tipo Risorsa '{tipo_risorsa}' non valido. Deve essere uno tra {risorse_df['Tipo Risorsa'].values}\")\n",
        "\n",
        "    new_data = {\n",
        "        \"ID Dispositivo\": id_dispositivo,\n",
        "        \"Etichetta\": etichetta,\n",
        "        \"Tipo Risorsa\": tipo_risorsa,\n",
        "        \"Tipo Luogo\": tipo_luogo,\n",
        "        \"Etichetta Georeferenziata\": etichetta_georeferenziata,\n",
        "    }\n",
        "    return pd.concat([dispositivi_df, pd.DataFrame([new_data])], ignore_index=True)\n",
        "\n",
        "\n",
        "# Esempio di utilizzo della funzione Aggiungi_dispositivo\n",
        "#Per utilizzare questa funzione, assicurati di popolare prima i DataFrame luoghi_df e risorse_df con i dati appropriati.\n",
        "dispositivi_df = Aggiungi_dispositivo(dispositivi_df, luoghi_df, risorse_df, \"D005\", \"Tag5\", \"Fabbricato\", \"Estintori\", \"Geo5\")\n",
        "\n",
        "# Visualizzazione del DataFrame aggiornato\n",
        "print(dispositivi_df)"
      ]
    },
    {
      "cell_type": "markdown",
      "metadata": {
        "id": "HdD-Uh9kBShj"
      },
      "source": [
        "**ESEGUIRE LA PRECEDENTE CELLA E POI PROSEGUIRE**"
      ]
    },
    {
      "cell_type": "code",
      "execution_count": null,
      "metadata": {
        "cellView": "form",
        "colab": {
          "base_uri": "https://localhost:8080/",
          "height": 35
        },
        "id": "aAir7nRo57_4",
        "outputId": "1ef376ad-134d-46ad-d413-011ae10a88b9"
      },
      "outputs": [
        {
          "data": {
            "application/vnd.google.colaboratory.intrinsic+json": {
              "type": "string"
            },
            "text/plain": [
              "'\\nfrom google.colab import sheets\\n\\nsheet = sheets.InteractiveSheet(df=dispositivi_df)\\n#sheet = sheets.InteractiveSheet(df=attività_df)\\n'"
            ]
          },
          "execution_count": 11,
          "metadata": {},
          "output_type": "execute_result"
        }
      ],
      "source": [
        "\"\"\"\n",
        "from google.colab import sheets\n",
        "\n",
        "sheet = sheets.InteractiveSheet(df=dispositivi_df)\n",
        "#sheet = sheets.InteractiveSheet(df=attività_df)\n",
        "\"\"\""
      ]
    },
    {
      "cell_type": "markdown",
      "metadata": {
        "id": "v6c52MkYMs_b"
      },
      "source": [
        "Sostituire i valori utilizzati nel DataFrame dispositivi_data nel campo ID_dispositivo con un valore univoco utilizzando gli UUID.Quindi modifico la funzione Aggiungi_dispositivo"
      ]
    },
    {
      "cell_type": "code",
      "execution_count": null,
      "metadata": {
        "colab": {
          "base_uri": "https://localhost:8080/"
        },
        "id": "xgKYrFhu6G6A",
        "outputId": "be1fd5b1-0060-4ca8-8265-62d202956057"
      },
      "outputs": [
        {
          "name": "stdout",
          "output_type": "stream",
          "text": [
            "                         ID Dispositivo Etichetta Tipo Risorsa  Tipo Luogo  \\\n",
            "0                                  D005      Tag5    Estintori  Fabbricato   \n",
            "1  029847dc-6847-11ef-94e1-0242ac1c000c      Tag5    Estintori  Fabbricato   \n",
            "\n",
            "  Etichetta Georeferenziata  \n",
            "0                      Geo5  \n",
            "1                      Geo5  \n"
          ]
        }
      ],
      "source": [
        "import uuid\n",
        "# Funzione per aggiungere dispositivi con controllo su Tipo Luogo e Tipo Risorsa\n",
        "def Aggiungi_dispositivo(dispositivi_df, luoghi_df, risorse_df, id_dispositivo, etichetta, tipo_luogo, tipo_risorsa, etichetta_georeferenziata):\n",
        "    if tipo_luogo not in luoghi_df[\"Tipo Luogo\"].values:\n",
        "        raise ValueError(f\"Tipo Luogo '{tipo_luogo}' non valido. Deve essere uno tra {luoghi_df['Tipo Luogo'].values}\")\n",
        "    if tipo_risorsa not in risorse_df[\"Tipo Risorsa\"].values:\n",
        "        raise ValueError(f\"Tipo Risorsa '{tipo_risorsa}' non valido. Deve essere uno tra {risorse_df['Tipo Risorsa'].values}\")\n",
        "    new_id = uuid.uuid1()  # Generazione di un UUID univoco\n",
        "    new_data = {\n",
        "        \"ID Dispositivo\": new_id,\n",
        "        \"Etichetta\": etichetta,\n",
        "        \"Tipo Risorsa\": tipo_risorsa,\n",
        "        \"Tipo Luogo\": tipo_luogo,\n",
        "        \"Etichetta Georeferenziata\": etichetta_georeferenziata,\n",
        "    }\n",
        "    return pd.concat([dispositivi_df, pd.DataFrame([new_data])], ignore_index=True)\n",
        "\n",
        "\n",
        "# Esempio di utilizzo della funzione Aggiungi_dispositivo\n",
        "#Per utilizzare questa funzione, assicurati di popolare prima i DataFrame luoghi_df e risorse_df con i dati appropriati.\n",
        "dispositivi_df = Aggiungi_dispositivo(dispositivi_df, luoghi_df, risorse_df, \"D005\", \"Tag5\", \"Fabbricato\", \"Estintori\", \"Geo5\")\n",
        "\n",
        "# Visualizzazione del DataFrame aggiornato\n",
        "print(dispositivi_df)"
      ]
    },
    {
      "cell_type": "markdown",
      "metadata": {
        "id": "XodPXi00AnUR"
      },
      "source": [
        "Mentre l'aggiunta di un dispositivo mediante la funzione **Aggiungi_dispositivo**,permette ad ora di inserire un dispositivo  identificato univocamente, associato ad un tipo di luogo ed ad un tipo di risorsa, rimangono alcuni aspetti da implementare.\n",
        "Una funzione **Georeferenzia_dispositivo** modificando il *Dataframe dispositivi* deve permettere di inserire l'etichetta univoca  per la georeferenziazione (può essere unizialmente un campo testuale che descrive la localizzazione della risorsa ed è sottoposto a test di unicità),\n",
        "In ogni caso andra`risolta la costruzione di una mappa (ID_dispositivo -coordinate terrestri) per ottimizzazioni di svolgimento delle manutenzioni ordinarie"
      ]
    },
    {
      "cell_type": "markdown",
      "metadata": {
        "id": "-Yn3Ckz9EULE"
      },
      "source": [
        "Il dataframe attività deve essere popolaato di tutti i record relativi ai dispositivi, con un record per ogni manutenzione prevista per esso attivata con *data di inizio* cui si associa un *identificatore univoco per la attività* dato dal suo timestamp, il dato della *periodicità* scelta dal *Dataframe periodicità *la scadenza calcolata in base alla periodicità e le due flag (*stato di assegnazione* e *stato di esecuzione*)che hanno come valori di default `non_assegnato`  e `non_eseguito`.\n",
        "Particolare importanza assume la funzione **Aggiorna_attività** qualora modifichi la *flag sullo stato di esecuzione*in `eseguita` che sulla base della periodicità presente genera una nuovo record con inizio attività pari all`attuale timestamp"
      ]
    }
  ],
  "metadata": {
    "colab": {
      "authorship_tag": "ABX9TyNWgk0orSeyEJd2CD9m2X/n",
      "include_colab_link": true,
      "mount_file_id": "1yeCYn7Pzw-Nq9oPPi5G466523KpqXrM0",
      "provenance": []
    },
    "kernelspec": {
      "display_name": "Python 3",
      "name": "python3"
    },
    "language_info": {
      "name": "python"
    }
  },
  "nbformat": 4,
  "nbformat_minor": 0
}
